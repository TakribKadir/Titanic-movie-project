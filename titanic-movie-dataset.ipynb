{
 "cells": [
  {
   "cell_type": "markdown",
   "id": "cde46588",
   "metadata": {
    "_cell_guid": "b1076dfc-b9ad-4769-8c92-a6c4dae69d19",
    "_uuid": "8f2839f25d086af736a60e9eeb907d3b93b6e0e5",
    "execution": {
     "iopub.execute_input": "2025-03-19T17:40:12.317624Z",
     "iopub.status.busy": "2025-03-19T17:40:12.317261Z",
     "iopub.status.idle": "2025-03-19T17:40:12.322187Z",
     "shell.execute_reply": "2025-03-19T17:40:12.320978Z",
     "shell.execute_reply.started": "2025-03-19T17:40:12.317595Z"
    },
    "papermill": {
     "duration": 0.001938,
     "end_time": "2025-03-19T17:41:16.781918",
     "exception": false,
     "start_time": "2025-03-19T17:41:16.779980",
     "status": "completed"
    },
    "tags": []
   },
   "source": [
    "# The Titanic movie dataset analysis"
   ]
  },
  {
   "cell_type": "code",
   "execution_count": null,
   "id": "5b5a3d00",
   "metadata": {
    "papermill": {
     "duration": 0.001083,
     "end_time": "2025-03-19T17:41:16.784784",
     "exception": false,
     "start_time": "2025-03-19T17:41:16.783701",
     "status": "completed"
    },
    "tags": []
   },
   "outputs": [],
   "source": []
  }
 ],
 "metadata": {
  "kaggle": {
   "accelerator": "none",
   "dataSources": [],
   "dockerImageVersionId": 30918,
   "isGpuEnabled": false,
   "isInternetEnabled": false,
   "language": "python",
   "sourceType": "notebook"
  },
  "kernelspec": {
   "display_name": "Python 3",
   "language": "python",
   "name": "python3"
  },
  "language_info": {
   "codemirror_mode": {
    "name": "ipython",
    "version": 3
   },
   "file_extension": ".py",
   "mimetype": "text/x-python",
   "name": "python",
   "nbconvert_exporter": "python",
   "pygments_lexer": "ipython3",
   "version": "3.10.12"
  },
  "papermill": {
   "default_parameters": {},
   "duration": 3.507096,
   "end_time": "2025-03-19T17:41:17.306028",
   "environment_variables": {},
   "exception": null,
   "input_path": "__notebook__.ipynb",
   "output_path": "__notebook__.ipynb",
   "parameters": {},
   "start_time": "2025-03-19T17:41:13.798932",
   "version": "2.6.0"
  }
 },
 "nbformat": 4,
 "nbformat_minor": 5
}
